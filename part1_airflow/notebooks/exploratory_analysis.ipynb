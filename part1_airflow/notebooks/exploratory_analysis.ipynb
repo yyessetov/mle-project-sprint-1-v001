{
 "cells": [
  {
   "cell_type": "markdown",
   "metadata": {},
   "source": [
    "Sprint 1. Exploratory analysis"
   ]
  },
  {
   "cell_type": "code",
   "execution_count": 1,
   "metadata": {},
   "outputs": [],
   "source": [
    "%load_ext autoreload\n",
    "%autoreload 2"
   ]
  },
  {
   "cell_type": "code",
   "execution_count": 2,
   "metadata": {},
   "outputs": [],
   "source": [
    "import os\n",
    "import pandas as pd\n",
    "from dotenv import load_dotenv, find_dotenv\n",
    "from sqlalchemy import create_engine"
   ]
  },
  {
   "cell_type": "code",
   "execution_count": 3,
   "metadata": {},
   "outputs": [
    {
     "data": {
      "text/plain": [
       "True"
      ]
     },
     "execution_count": 3,
     "metadata": {},
     "output_type": "execute_result"
    }
   ],
   "source": [
    "# подгружаем .env\n",
    "load_dotenv()"
   ]
  },
  {
   "cell_type": "code",
   "execution_count": 4,
   "metadata": {},
   "outputs": [],
   "source": [
    "# Считываем все креды\n",
    "src_host = os.environ.get('DB_SOURCE_HOST')\n",
    "src_port = os.environ.get('DB_SOURCE_PORT')\n",
    "src_username = os.environ.get('DB_SOURCE_USER')\n",
    "src_password = os.environ.get('DB_SOURCE_PASSWORD')\n",
    "src_db = os.environ.get('DB_SOURCE_NAME') \n",
    "\n",
    "dst_host = os.environ.get('DB_DESTINATION_HOST')\n",
    "dst_port = os.environ.get('DB_DESTINATION_PORT')\n",
    "dst_username = os.environ.get('DB_DESTINATION_USER')\n",
    "dst_password = os.environ.get('DB_DESTINATION_PASSWORD')\n",
    "dst_db = os.environ.get('DB_DESTINATION_NAME')\n",
    "\n",
    "s3_bucket = os.environ.get('S3_BUCKET_NAME')\n",
    "s3_access_key = os.environ.get('AWS_ACCESS_KEY_ID')\n",
    "s3_secret_access_key = os.environ.get('AWS_SECRET_ACCESS_KEY')"
   ]
  },
  {
   "cell_type": "code",
   "execution_count": 5,
   "metadata": {},
   "outputs": [],
   "source": [
    "# Создадим соединения\n",
    "src_conn = create_engine(f'postgresql://{src_username}:{src_password}@{src_host}:{src_port}/{src_db}')\n",
    "dst_conn = create_engine(f'postgresql://{dst_username}:{dst_password}@{dst_host}:{dst_port}/{dst_db}')"
   ]
  },
  {
   "cell_type": "code",
   "execution_count": 6,
   "metadata": {},
   "outputs": [
    {
     "name": "stdout",
     "output_type": "stream",
     "text": [
      "flat_id               object\n",
      "build_year             int64\n",
      "building_type_int      int64\n",
      "latitude             float64\n",
      "longitude            float64\n",
      "ceiling_height       float64\n",
      "flats_count            int64\n",
      "floors_total           int64\n",
      "has_elevator           int64\n",
      "floor                  int64\n",
      "kitchen_area         float64\n",
      "living_area          float64\n",
      "rooms                  int64\n",
      "is_apartment           int64\n",
      "studio                 int64\n",
      "total_area           float64\n",
      "price                  int64\n",
      "dtype: object\n"
     ]
    }
   ],
   "source": [
    "def extract(conn):\n",
    "    #hook = PostgresHook('destination_db')\n",
    "    #conn = hook.get_conn()\n",
    "    sql = \"\"\"\n",
    "        select *\n",
    "        from flat_initial_data\n",
    "    \"\"\"\n",
    "    data = pd.read_sql(sql, conn)\n",
    "    #conn.close()\n",
    "    return data\n",
    "\n",
    "data = extract(dst_conn)\n",
    "print(data.dtypes)"
   ]
  },
  {
   "cell_type": "code",
   "execution_count": 7,
   "metadata": {},
   "outputs": [
    {
     "data": {
      "text/plain": [
       "(141362, 17)"
      ]
     },
     "execution_count": 7,
     "metadata": {},
     "output_type": "execute_result"
    }
   ],
   "source": [
    "data.shape"
   ]
  },
  {
   "cell_type": "code",
   "execution_count": 8,
   "metadata": {},
   "outputs": [
    {
     "data": {
      "text/plain": [
       "(122074, 17)"
      ]
     },
     "execution_count": 8,
     "metadata": {},
     "output_type": "execute_result"
    }
   ],
   "source": [
    "def remove_duplicates(data):\n",
    "    cols = ['floor', 'kitchen_area', 'living_area', 'rooms', 'is_apartment', 'studio', 'total_area', 'price']\n",
    "    is_duplicated_features = data.duplicated(subset=cols, keep=False)\n",
    "    data = data[~is_duplicated_features].reset_index(drop=True)\n",
    "    return data\n",
    "\n",
    "transformed_data = remove_duplicates(data)\n",
    "transformed_data.shape"
   ]
  },
  {
   "cell_type": "code",
   "execution_count": 9,
   "metadata": {},
   "outputs": [
    {
     "data": {
      "text/plain": [
       "flat_id              0\n",
       "build_year           0\n",
       "building_type_int    0\n",
       "latitude             0\n",
       "longitude            0\n",
       "ceiling_height       0\n",
       "flats_count          0\n",
       "floors_total         0\n",
       "has_elevator         0\n",
       "floor                0\n",
       "kitchen_area         0\n",
       "living_area          0\n",
       "rooms                0\n",
       "is_apartment         0\n",
       "studio               0\n",
       "total_area           0\n",
       "price                0\n",
       "dtype: int64"
      ]
     },
     "execution_count": 9,
     "metadata": {},
     "output_type": "execute_result"
    }
   ],
   "source": [
    "transformed_data.isnull().sum()"
   ]
  },
  {
   "cell_type": "code",
   "execution_count": 10,
   "metadata": {},
   "outputs": [
    {
     "data": {
      "text/plain": [
       "<Axes: xlabel='build_year', ylabel='Count'>"
      ]
     },
     "metadata": {},
     "output_type": "display_data"
    },
    {
     "data": {
      "text/plain": [
       "count    122074.000000\n",
       "mean       1986.472427\n",
       "std          22.055286\n",
       "min        1901.000000\n",
       "25%        1969.000000\n",
       "50%        1985.000000\n",
       "75%        2006.000000\n",
       "max        2023.000000\n",
       "Name: build_year, dtype: float64"
      ]
     },
     "metadata": {},
     "output_type": "display_data"
    },
    {
     "data": {
      "image/png": "[encoded data removed]",
      "text/plain": [
       "<Figure size 640x480 with 1 Axes>"
      ]
     },
     "metadata": {},
     "output_type": "display_data"
    }
   ],
   "source": [
    "import seaborn as sns\n",
    "\n",
    "display(sns.histplot(transformed_data['build_year'])) \n",
    "display(transformed_data['build_year'].describe())"
   ]
  },
  {
   "cell_type": "code",
   "execution_count": 11,
   "metadata": {},
   "outputs": [
    {
     "data": {
      "text/plain": [
       "7"
      ]
     },
     "execution_count": 11,
     "metadata": {},
     "output_type": "execute_result"
    }
   ],
   "source": [
    "#sns.countplot(transformed_data['building_type_int']) \n",
    "transformed_data['building_type_int'].nunique()"
   ]
  },
  {
   "cell_type": "code",
   "execution_count": 12,
   "metadata": {},
   "outputs": [
    {
     "data": {
      "text/plain": [
       "<Axes: xlabel='building_type_int', ylabel='Count'>"
      ]
     },
     "metadata": {},
     "output_type": "display_data"
    },
    {
     "data": {
      "text/plain": [
       "building_type_int\n",
       "4    68222\n",
       "2    21410\n",
       "1    20100\n",
       "6     9200\n",
       "0     1616\n",
       "3     1522\n",
       "5        4\n",
       "Name: count, dtype: int64"
      ]
     },
     "execution_count": 12,
     "metadata": {},
     "output_type": "execute_result"
    },
    {
     "data": {
      "image/png": "[encoded data removed]",
      "text/plain": [
       "<Figure size 640x480 with 1 Axes>"
      ]
     },
     "metadata": {},
     "output_type": "display_data"
    }
   ],
   "source": [
    "display(sns.histplot(transformed_data['building_type_int']))\n",
    "#transformed_data['building_type_int'].head()\n",
    "#len(transformed_data[transformed_data['building_type_int'] == 5])\n",
    "transformed_data['building_type_int'].value_counts()"
   ]
  },
  {
   "cell_type": "code",
   "execution_count": 13,
   "metadata": {},
   "outputs": [
    {
     "data": {
      "text/plain": [
       "count    122074.000000\n",
       "mean          2.751552\n",
       "std           0.223420\n",
       "min           2.000000\n",
       "25%           2.640000\n",
       "50%           2.640000\n",
       "75%           2.800000\n",
       "max          27.000000\n",
       "Name: ceiling_height, dtype: float64"
      ]
     },
     "execution_count": 13,
     "metadata": {},
     "output_type": "execute_result"
    }
   ],
   "source": [
    "#display(sns.displot(transformed_data['ceiling_height'])) \n",
    "transformed_data['ceiling_height'].describe()"
   ]
  },
  {
   "cell_type": "code",
   "execution_count": 14,
   "metadata": {},
   "outputs": [
    {
     "data": {
      "text/plain": [
       "count    122074.000000\n",
       "mean        251.348313\n",
       "std         207.085765\n",
       "min           1.000000\n",
       "25%         111.000000\n",
       "50%         199.000000\n",
       "75%         322.000000\n",
       "max        4455.000000\n",
       "Name: flats_count, dtype: float64"
      ]
     },
     "metadata": {},
     "output_type": "display_data"
    }
   ],
   "source": [
    "display(transformed_data['flats_count'].describe())"
   ]
  },
  {
   "cell_type": "code",
   "execution_count": 46,
   "metadata": {},
   "outputs": [
    {
     "data": {
      "text/plain": [
       "<Axes: xlabel='floors_total', ylabel='Count'>"
      ]
     },
     "metadata": {},
     "output_type": "display_data"
    },
    {
     "data": {
      "text/plain": [
       "count    122074.000000\n",
       "mean         14.074135\n",
       "std           6.883116\n",
       "min           1.000000\n",
       "25%           9.000000\n",
       "50%          14.000000\n",
       "75%          17.000000\n",
       "max          99.000000\n",
       "Name: floors_total, dtype: float64"
      ]
     },
     "metadata": {},
     "output_type": "display_data"
    },
    {
     "data": {
      "image/png": "[encoded data removed]",
      "text/plain": [
       "<Figure size 640x480 with 1 Axes>"
      ]
     },
     "metadata": {},
     "output_type": "display_data"
    }
   ],
   "source": [
    "display(sns.histplot(transformed_data['floors_total']))\n",
    "display(transformed_data['floors_total'].describe())"
   ]
  },
  {
   "cell_type": "code",
   "execution_count": 16,
   "metadata": {},
   "outputs": [
    {
     "data": {
      "text/plain": [
       "<Axes: xlabel='has_elevator', ylabel='Count'>"
      ]
     },
     "metadata": {},
     "output_type": "display_data"
    },
    {
     "data": {
      "text/plain": [
       "has_elevator\n",
       "1    109473\n",
       "0     12601\n",
       "Name: count, dtype: int64"
      ]
     },
     "execution_count": 16,
     "metadata": {},
     "output_type": "execute_result"
    },
    {
     "data": {
      "image/png": "[encoded data removed]",
      "text/plain": [
       "<Figure size 640x480 with 1 Axes>"
      ]
     },
     "metadata": {},
     "output_type": "display_data"
    }
   ],
   "source": [
    "display(sns.histplot(transformed_data['has_elevator']))\n",
    "transformed_data['has_elevator'].value_counts()"
   ]
  },
  {
   "cell_type": "code",
   "execution_count": 17,
   "metadata": {},
   "outputs": [
    {
     "data": {
      "text/plain": [
       "count    122074.000000\n",
       "mean          8.954203\n",
       "std           5.197637\n",
       "min           0.000000\n",
       "25%           6.100000\n",
       "50%           8.700000\n",
       "75%          10.200000\n",
       "max         203.000000\n",
       "Name: kitchen_area, dtype: float64"
      ]
     },
     "metadata": {},
     "output_type": "display_data"
    }
   ],
   "source": [
    "display(transformed_data['kitchen_area'].describe())"
   ]
  },
  {
   "cell_type": "code",
   "execution_count": 18,
   "metadata": {},
   "outputs": [
    {
     "data": {
      "text/plain": [
       "count    122074.000000\n",
       "mean         31.029512\n",
       "std          23.500089\n",
       "min           0.000000\n",
       "25%          19.000000\n",
       "50%          29.600000\n",
       "75%          41.200001\n",
       "max         700.000000\n",
       "Name: living_area, dtype: float64"
      ]
     },
     "metadata": {},
     "output_type": "display_data"
    }
   ],
   "source": [
    "display(transformed_data['living_area'].describe())"
   ]
  },
  {
   "cell_type": "code",
   "execution_count": 19,
   "metadata": {},
   "outputs": [
    {
     "name": "stdout",
     "output_type": "stream",
     "text": [
      "rooms\n",
      "2     45880\n",
      "1     36120\n",
      "3     31924\n",
      "4      5969\n",
      "5      1469\n",
      "6       477\n",
      "7       145\n",
      "8        48\n",
      "9        18\n",
      "10       17\n",
      "12        4\n",
      "20        1\n",
      "17        1\n",
      "16        1\n",
      "Name: count, dtype: int64\n",
      "count    122074.000000\n",
      "mean          2.126309\n",
      "std           0.988550\n",
      "min           1.000000\n",
      "25%           1.000000\n",
      "50%           2.000000\n",
      "75%           3.000000\n",
      "max          20.000000\n",
      "Name: rooms, dtype: float64\n"
     ]
    }
   ],
   "source": [
    "print(transformed_data['rooms'].value_counts())\n",
    "print(transformed_data['rooms'].describe())"
   ]
  },
  {
   "cell_type": "code",
   "execution_count": 20,
   "metadata": {},
   "outputs": [
    {
     "data": {
      "text/plain": [
       "is_apartment\n",
       "0    120899\n",
       "1      1175\n",
       "Name: count, dtype: int64"
      ]
     },
     "execution_count": 20,
     "metadata": {},
     "output_type": "execute_result"
    }
   ],
   "source": [
    "transformed_data['is_apartment'].value_counts()"
   ]
  },
  {
   "cell_type": "code",
   "execution_count": 21,
   "metadata": {},
   "outputs": [
    {
     "data": {
      "text/plain": [
       "studio\n",
       "0    122074\n",
       "Name: count, dtype: int64"
      ]
     },
     "execution_count": 21,
     "metadata": {},
     "output_type": "execute_result"
    }
   ],
   "source": [
    "transformed_data['studio'].value_counts()"
   ]
  },
  {
   "cell_type": "code",
   "execution_count": 22,
   "metadata": {},
   "outputs": [
    {
     "data": {
      "text/plain": [
       "count    122074.000000\n",
       "mean         61.947111\n",
       "std          39.466151\n",
       "min          11.000000\n",
       "25%          39.299999\n",
       "50%          53.000000\n",
       "75%          71.550003\n",
       "max         920.000000\n",
       "Name: total_area, dtype: float64"
      ]
     },
     "execution_count": 22,
     "metadata": {},
     "output_type": "execute_result"
    }
   ],
   "source": [
    "transformed_data['total_area'].describe()"
   ]
  },
  {
   "cell_type": "code",
   "execution_count": 23,
   "metadata": {},
   "outputs": [
    {
     "data": {
      "text/plain": [
       "count    1.220740e+05\n",
       "mean     1.933651e+07\n",
       "std      6.938117e+07\n",
       "min      1.100000e+01\n",
       "25%      8.950000e+06\n",
       "50%      1.187000e+07\n",
       "75%      1.680000e+07\n",
       "max      9.873738e+09\n",
       "Name: price, dtype: float64"
      ]
     },
     "execution_count": 23,
     "metadata": {},
     "output_type": "execute_result"
    }
   ],
   "source": [
    "transformed_data['price'].describe()"
   ]
  },
  {
   "cell_type": "code",
   "execution_count": 24,
   "metadata": {},
   "outputs": [
    {
     "data": {
      "text/plain": [
       "count    122074.000000\n",
       "mean         55.730542\n",
       "std           0.103139\n",
       "min          55.211460\n",
       "25%          55.653996\n",
       "50%          55.724899\n",
       "75%          55.808418\n",
       "max          56.011032\n",
       "Name: latitude, dtype: float64"
      ]
     },
     "execution_count": 24,
     "metadata": {},
     "output_type": "execute_result"
    }
   ],
   "source": [
    "transformed_data['latitude'].describe()"
   ]
  },
  {
   "cell_type": "code",
   "execution_count": 25,
   "metadata": {},
   "outputs": [
    {
     "data": {
      "text/plain": [
       "count    122074.000000\n",
       "mean         37.588992\n",
       "std           0.150716\n",
       "min          36.864372\n",
       "25%          37.491585\n",
       "50%          37.581226\n",
       "75%          37.691341\n",
       "max          37.946411\n",
       "Name: longitude, dtype: float64"
      ]
     },
     "execution_count": 25,
     "metadata": {},
     "output_type": "execute_result"
    }
   ],
   "source": [
    "transformed_data['longitude'].describe()"
   ]
  },
  {
   "cell_type": "code",
   "execution_count": 26,
   "metadata": {},
   "outputs": [
    {
     "data": {
      "text/plain": [
       "<Axes: xlabel='latitude', ylabel='Count'>"
      ]
     },
     "metadata": {},
     "output_type": "display_data"
    },
    {
     "data": {
      "image/png": "[encoded data removed]",
      "text/plain": [
       "<Figure size 640x480 with 1 Axes>"
      ]
     },
     "metadata": {},
     "output_type": "display_data"
    }
   ],
   "source": [
    "display(sns.histplot(transformed_data['latitude'])) "
   ]
  },
  {
   "cell_type": "code",
   "execution_count": 27,
   "metadata": {},
   "outputs": [
    {
     "data": {
      "text/plain": [
       "<Axes: xlabel='longitude', ylabel='Count'>"
      ]
     },
     "metadata": {},
     "output_type": "display_data"
    },
    {
     "data": {
      "image/png": "[encoded data removed]",
      "text/plain": [
       "<Figure size 640x480 with 1 Axes>"
      ]
     },
     "metadata": {},
     "output_type": "display_data"
    }
   ],
   "source": [
    "display(sns.histplot(transformed_data['longitude'])) "
   ]
  },
  {
   "cell_type": "code",
   "execution_count": 35,
   "metadata": {},
   "outputs": [
    {
     "data": {
      "text/plain": [
       "(122074, 17)"
      ]
     },
     "execution_count": 35,
     "metadata": {},
     "output_type": "execute_result"
    }
   ],
   "source": [
    "def fill_missing_values(data):\n",
    "    cols_with_nans = data.isnull().sum()\n",
    "    if cols_with_nans.sum() > 0:\n",
    "        cols_with_nans = cols_with_nans[cols_with_nans > 0].index\n",
    "        for col in cols_with_nans:\n",
    "            if data[col].dtype in [float, int]:\n",
    "                fill_value = data[col].median()\n",
    "            elif data[col].dtype == 'object':\n",
    "                fill_value = data[col].mode().iloc[0]\n",
    "            data[col] = data[col].fillna(fill_value)\n",
    "    return data\n",
    "\n",
    "filled_data = fill_missing_values(transformed_data)\n",
    "filled_data.shape"
   ]
  },
  {
   "cell_type": "code",
   "execution_count": 60,
   "metadata": {},
   "outputs": [
    {
     "data": {
      "text/plain": [
       "(95560, 17)"
      ]
     },
     "execution_count": 60,
     "metadata": {},
     "output_type": "execute_result"
    }
   ],
   "source": [
    "def remove_outliers(data):\n",
    "    cat_cols = data.loc[:, data.nunique() < 10].columns\n",
    "    num_cols = data.select_dtypes(['float', 'int']).columns.drop(cat_cols)\n",
    "    threshold = 1.5\n",
    "    potential_outliers = pd.DataFrame()\n",
    "\n",
    "    for col in num_cols:\n",
    "        Q1 = data[col].quantile(0.25)\n",
    "        Q3 = data[col].quantile(0.75)\n",
    "        IQR = Q3 - Q1\n",
    "        margin = threshold * IQR\n",
    "        lower = Q1 - margin\n",
    "        upper = Q3 + margin\n",
    "        potential_outliers[col] = ~data[col].between(lower, upper)\n",
    "\n",
    "    outliers = potential_outliers.any(axis=1)\n",
    "    data = data[~outliers].reset_index(drop=True)\n",
    "    return data\n",
    "\n",
    "without_outliers = remove_outliers(filled_data)\n",
    "without_outliers.shape"
   ]
  },
  {
   "cell_type": "code",
   "execution_count": 39,
   "metadata": {},
   "outputs": [
    {
     "name": "stdout",
     "output_type": "stream",
     "text": [
      "2.640000104904175 2.799999952316284\n"
     ]
    }
   ],
   "source": [
    "Q1 = filled_data['ceiling_height'].quantile(0.25)\n",
    "Q3 = filled_data['ceiling_height'].quantile(0.75)\n",
    "print(Q1, Q3)"
   ]
  },
  {
   "cell_type": "code",
   "execution_count": 40,
   "metadata": {},
   "outputs": [
    {
     "name": "stdout",
     "output_type": "stream",
     "text": [
      "8283\n"
     ]
    }
   ],
   "source": [
    "potential_outliers = pd.DataFrame()\n",
    "IQR = Q3 - Q1\n",
    "margin = 1.5 * IQR\n",
    "lower = Q1 - margin\n",
    "upper = Q3 + margin\n",
    "potential_outliers['ceiling_height'] = ~filled_data['ceiling_height'].between(lower, upper)\n",
    "outliers = potential_outliers.any(axis=1)\n",
    "print(outliers.sum())"
   ]
  },
  {
   "cell_type": "code",
   "execution_count": 45,
   "metadata": {},
   "outputs": [
    {
     "data": {
      "text/html": [
       "<div>\n",
       "<style scoped>\n",
       "    .dataframe tbody tr th:only-of-type {\n",
       "        vertical-align: middle;\n",
       "    }\n",
       "\n",
       "    .dataframe tbody tr th {\n",
       "        vertical-align: top;\n",
       "    }\n",
       "\n",
       "    .dataframe thead th {\n",
       "        text-align: right;\n",
       "    }\n",
       "</style>\n",
       "<table border=\"1\" class=\"dataframe\">\n",
       "  <thead>\n",
       "    <tr style=\"text-align: right;\">\n",
       "      <th></th>\n",
       "      <th>flat_id</th>\n",
       "      <th>build_year</th>\n",
       "      <th>building_type_int</th>\n",
       "      <th>latitude</th>\n",
       "      <th>longitude</th>\n",
       "      <th>ceiling_height</th>\n",
       "      <th>flats_count</th>\n",
       "      <th>floors_total</th>\n",
       "      <th>has_elevator</th>\n",
       "      <th>floor</th>\n",
       "      <th>kitchen_area</th>\n",
       "      <th>living_area</th>\n",
       "      <th>rooms</th>\n",
       "      <th>is_apartment</th>\n",
       "      <th>studio</th>\n",
       "      <th>total_area</th>\n",
       "      <th>price</th>\n",
       "    </tr>\n",
       "  </thead>\n",
       "  <tbody>\n",
       "    <tr>\n",
       "      <th>0</th>\n",
       "      <td>0.0</td>\n",
       "      <td>1965</td>\n",
       "      <td>6</td>\n",
       "      <td>55.717113</td>\n",
       "      <td>37.781120</td>\n",
       "      <td>2.64</td>\n",
       "      <td>84</td>\n",
       "      <td>12</td>\n",
       "      <td>1</td>\n",
       "      <td>9</td>\n",
       "      <td>9.90</td>\n",
       "      <td>19.900000</td>\n",
       "      <td>1</td>\n",
       "      <td>0</td>\n",
       "      <td>0</td>\n",
       "      <td>35.099998</td>\n",
       "      <td>9500000</td>\n",
       "    </tr>\n",
       "    <tr>\n",
       "      <th>1</th>\n",
       "      <td>1.0</td>\n",
       "      <td>2001</td>\n",
       "      <td>2</td>\n",
       "      <td>55.794849</td>\n",
       "      <td>37.608013</td>\n",
       "      <td>3.00</td>\n",
       "      <td>97</td>\n",
       "      <td>10</td>\n",
       "      <td>1</td>\n",
       "      <td>7</td>\n",
       "      <td>0.00</td>\n",
       "      <td>16.600000</td>\n",
       "      <td>1</td>\n",
       "      <td>0</td>\n",
       "      <td>0</td>\n",
       "      <td>43.000000</td>\n",
       "      <td>13500000</td>\n",
       "    </tr>\n",
       "    <tr>\n",
       "      <th>2</th>\n",
       "      <td>2.0</td>\n",
       "      <td>2000</td>\n",
       "      <td>4</td>\n",
       "      <td>55.740040</td>\n",
       "      <td>37.761742</td>\n",
       "      <td>2.70</td>\n",
       "      <td>80</td>\n",
       "      <td>10</td>\n",
       "      <td>1</td>\n",
       "      <td>9</td>\n",
       "      <td>9.00</td>\n",
       "      <td>32.000000</td>\n",
       "      <td>2</td>\n",
       "      <td>0</td>\n",
       "      <td>0</td>\n",
       "      <td>56.000000</td>\n",
       "      <td>13500000</td>\n",
       "    </tr>\n",
       "    <tr>\n",
       "      <th>3</th>\n",
       "      <td>3.0</td>\n",
       "      <td>2002</td>\n",
       "      <td>4</td>\n",
       "      <td>55.672016</td>\n",
       "      <td>37.570877</td>\n",
       "      <td>2.64</td>\n",
       "      <td>771</td>\n",
       "      <td>17</td>\n",
       "      <td>1</td>\n",
       "      <td>1</td>\n",
       "      <td>10.10</td>\n",
       "      <td>43.099998</td>\n",
       "      <td>3</td>\n",
       "      <td>0</td>\n",
       "      <td>0</td>\n",
       "      <td>76.000000</td>\n",
       "      <td>20000000</td>\n",
       "    </tr>\n",
       "    <tr>\n",
       "      <th>4</th>\n",
       "      <td>4.0</td>\n",
       "      <td>1971</td>\n",
       "      <td>1</td>\n",
       "      <td>55.808807</td>\n",
       "      <td>37.707306</td>\n",
       "      <td>2.60</td>\n",
       "      <td>208</td>\n",
       "      <td>9</td>\n",
       "      <td>1</td>\n",
       "      <td>3</td>\n",
       "      <td>3.00</td>\n",
       "      <td>14.000000</td>\n",
       "      <td>1</td>\n",
       "      <td>0</td>\n",
       "      <td>0</td>\n",
       "      <td>24.000000</td>\n",
       "      <td>5200000</td>\n",
       "    </tr>\n",
       "    <tr>\n",
       "      <th>...</th>\n",
       "      <td>...</td>\n",
       "      <td>...</td>\n",
       "      <td>...</td>\n",
       "      <td>...</td>\n",
       "      <td>...</td>\n",
       "      <td>...</td>\n",
       "      <td>...</td>\n",
       "      <td>...</td>\n",
       "      <td>...</td>\n",
       "      <td>...</td>\n",
       "      <td>...</td>\n",
       "      <td>...</td>\n",
       "      <td>...</td>\n",
       "      <td>...</td>\n",
       "      <td>...</td>\n",
       "      <td>...</td>\n",
       "      <td>...</td>\n",
       "    </tr>\n",
       "    <tr>\n",
       "      <th>122069</th>\n",
       "      <td>141357.0</td>\n",
       "      <td>2013</td>\n",
       "      <td>4</td>\n",
       "      <td>55.626579</td>\n",
       "      <td>37.313503</td>\n",
       "      <td>2.64</td>\n",
       "      <td>672</td>\n",
       "      <td>25</td>\n",
       "      <td>1</td>\n",
       "      <td>16</td>\n",
       "      <td>11.00</td>\n",
       "      <td>18.000000</td>\n",
       "      <td>1</td>\n",
       "      <td>0</td>\n",
       "      <td>0</td>\n",
       "      <td>42.000000</td>\n",
       "      <td>10500000</td>\n",
       "    </tr>\n",
       "    <tr>\n",
       "      <th>122070</th>\n",
       "      <td>141358.0</td>\n",
       "      <td>1960</td>\n",
       "      <td>1</td>\n",
       "      <td>55.727470</td>\n",
       "      <td>37.768677</td>\n",
       "      <td>2.48</td>\n",
       "      <td>80</td>\n",
       "      <td>5</td>\n",
       "      <td>0</td>\n",
       "      <td>5</td>\n",
       "      <td>5.28</td>\n",
       "      <td>28.330000</td>\n",
       "      <td>2</td>\n",
       "      <td>0</td>\n",
       "      <td>0</td>\n",
       "      <td>41.110001</td>\n",
       "      <td>7400000</td>\n",
       "    </tr>\n",
       "    <tr>\n",
       "      <th>122071</th>\n",
       "      <td>141359.0</td>\n",
       "      <td>1966</td>\n",
       "      <td>4</td>\n",
       "      <td>55.704315</td>\n",
       "      <td>37.506584</td>\n",
       "      <td>2.64</td>\n",
       "      <td>72</td>\n",
       "      <td>9</td>\n",
       "      <td>1</td>\n",
       "      <td>7</td>\n",
       "      <td>5.30</td>\n",
       "      <td>20.000000</td>\n",
       "      <td>1</td>\n",
       "      <td>0</td>\n",
       "      <td>0</td>\n",
       "      <td>31.500000</td>\n",
       "      <td>9700000</td>\n",
       "    </tr>\n",
       "    <tr>\n",
       "      <th>122072</th>\n",
       "      <td>141360.0</td>\n",
       "      <td>2017</td>\n",
       "      <td>4</td>\n",
       "      <td>55.699863</td>\n",
       "      <td>37.939564</td>\n",
       "      <td>2.70</td>\n",
       "      <td>480</td>\n",
       "      <td>25</td>\n",
       "      <td>1</td>\n",
       "      <td>15</td>\n",
       "      <td>13.80</td>\n",
       "      <td>33.700001</td>\n",
       "      <td>2</td>\n",
       "      <td>0</td>\n",
       "      <td>0</td>\n",
       "      <td>65.300003</td>\n",
       "      <td>11750000</td>\n",
       "    </tr>\n",
       "    <tr>\n",
       "      <th>122073</th>\n",
       "      <td>141361.0</td>\n",
       "      <td>1988</td>\n",
       "      <td>4</td>\n",
       "      <td>55.862133</td>\n",
       "      <td>37.689613</td>\n",
       "      <td>2.74</td>\n",
       "      <td>128</td>\n",
       "      <td>17</td>\n",
       "      <td>1</td>\n",
       "      <td>16</td>\n",
       "      <td>7.60</td>\n",
       "      <td>18.000000</td>\n",
       "      <td>1</td>\n",
       "      <td>0</td>\n",
       "      <td>0</td>\n",
       "      <td>38.000000</td>\n",
       "      <td>8000000</td>\n",
       "    </tr>\n",
       "  </tbody>\n",
       "</table>\n",
       "<p>113791 rows × 17 columns</p>\n",
       "</div>"
      ],
      "text/plain": [
       "         flat_id  build_year  building_type_int   latitude  longitude  \\\n",
       "0            0.0        1965                  6  55.717113  37.781120   \n",
       "1            1.0        2001                  2  55.794849  37.608013   \n",
       "2            2.0        2000                  4  55.740040  37.761742   \n",
       "3            3.0        2002                  4  55.672016  37.570877   \n",
       "4            4.0        1971                  1  55.808807  37.707306   \n",
       "...          ...         ...                ...        ...        ...   \n",
       "122069  141357.0        2013                  4  55.626579  37.313503   \n",
       "122070  141358.0        1960                  1  55.727470  37.768677   \n",
       "122071  141359.0        1966                  4  55.704315  37.506584   \n",
       "122072  141360.0        2017                  4  55.699863  37.939564   \n",
       "122073  141361.0        1988                  4  55.862133  37.689613   \n",
       "\n",
       "        ceiling_height  flats_count  floors_total  has_elevator  floor  \\\n",
       "0                 2.64           84            12             1      9   \n",
       "1                 3.00           97            10             1      7   \n",
       "2                 2.70           80            10             1      9   \n",
       "3                 2.64          771            17             1      1   \n",
       "4                 2.60          208             9             1      3   \n",
       "...                ...          ...           ...           ...    ...   \n",
       "122069            2.64          672            25             1     16   \n",
       "122070            2.48           80             5             0      5   \n",
       "122071            2.64           72             9             1      7   \n",
       "122072            2.70          480            25             1     15   \n",
       "122073            2.74          128            17             1     16   \n",
       "\n",
       "        kitchen_area  living_area  rooms  is_apartment  studio  total_area  \\\n",
       "0               9.90    19.900000      1             0       0   35.099998   \n",
       "1               0.00    16.600000      1             0       0   43.000000   \n",
       "2               9.00    32.000000      2             0       0   56.000000   \n",
       "3              10.10    43.099998      3             0       0   76.000000   \n",
       "4               3.00    14.000000      1             0       0   24.000000   \n",
       "...              ...          ...    ...           ...     ...         ...   \n",
       "122069         11.00    18.000000      1             0       0   42.000000   \n",
       "122070          5.28    28.330000      2             0       0   41.110001   \n",
       "122071          5.30    20.000000      1             0       0   31.500000   \n",
       "122072         13.80    33.700001      2             0       0   65.300003   \n",
       "122073          7.60    18.000000      1             0       0   38.000000   \n",
       "\n",
       "           price  \n",
       "0        9500000  \n",
       "1       13500000  \n",
       "2       13500000  \n",
       "3       20000000  \n",
       "4        5200000  \n",
       "...          ...  \n",
       "122069  10500000  \n",
       "122070   7400000  \n",
       "122071   9700000  \n",
       "122072  11750000  \n",
       "122073   8000000  \n",
       "\n",
       "[113791 rows x 17 columns]"
      ]
     },
     "execution_count": 45,
     "metadata": {},
     "output_type": "execute_result"
    }
   ],
   "source": [
    "filled_data[~outliers]"
   ]
  },
  {
   "cell_type": "code",
   "execution_count": 53,
   "metadata": {},
   "outputs": [
    {
     "data": {
      "text/plain": [
       "Index(['building_type_int', 'has_elevator', 'is_apartment', 'studio'], dtype='object')"
      ]
     },
     "execution_count": 53,
     "metadata": {},
     "output_type": "execute_result"
    }
   ],
   "source": [
    "cat_cols = filled_data.loc[:, filled_data.nunique() < 10].columns\n",
    "cat_cols"
   ]
  },
  {
   "cell_type": "code",
   "execution_count": 58,
   "metadata": {},
   "outputs": [],
   "source": [
    "num_cols = filled_data.select_dtypes(['float', 'int']).columns.drop(cat_cols)"
   ]
  },
  {
   "cell_type": "code",
   "execution_count": 59,
   "metadata": {},
   "outputs": [
    {
     "data": {
      "text/plain": [
       "Index(['build_year', 'latitude', 'longitude', 'ceiling_height', 'flats_count',\n",
       "       'floors_total', 'floor', 'kitchen_area', 'living_area', 'rooms',\n",
       "       'total_area', 'price'],\n",
       "      dtype='object')"
      ]
     },
     "execution_count": 59,
     "metadata": {},
     "output_type": "execute_result"
    }
   ],
   "source": [
    "num_cols"
   ]
  },
  {
   "cell_type": "code",
   "execution_count": null,
   "metadata": {},
   "outputs": [],
   "source": []
  }
 ],
 "metadata": {
  "kernelspec": {
   "display_name": "Python 3",
   "language": "python",
   "name": "python3"
  },
  "language_info": {
   "codemirror_mode": {
    "name": "ipython",
    "version": 3
   },
   "file_extension": ".py",
   "mimetype": "text/x-python",
   "name": "python",
   "nbconvert_exporter": "python",
   "pygments_lexer": "ipython3",
   "version": "3.10.12"
  }
 },
 "nbformat": 4,
 "nbformat_minor": 2
}
